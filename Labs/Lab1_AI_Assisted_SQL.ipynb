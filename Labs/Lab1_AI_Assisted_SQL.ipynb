{
  "cells": [
    {
      "cell_type": "markdown",
      "metadata": {
        "id": "view-in-github",
        "colab_type": "text"
      },
      "source": [
        "<a href=\"https://colab.research.google.com/github/QianyueWang0212/mgmt467-analytics-portfolio/blob/main/Labs/Lab1_AI_Assisted_SQL.ipynb\" target=\"_parent\"><img src=\"https://colab.research.google.com/assets/colab-badge.svg\" alt=\"Open In Colab\"/></a>"
      ]
    },
    {
      "cell_type": "markdown",
      "id": "eebaff9c",
      "metadata": {
        "id": "eebaff9c"
      },
      "source": [
        "\n",
        "# Week 2.1 — Prompt Practice: Git, GitHub, and Google Colab\n",
        "\n",
        "**Course:** MGMT 467 — AI‑Assisted Big Data Analytics in the Cloud  \n",
        "**Session:** Tuesday (2.1) — Developer Environment Setup\n",
        "\n",
        "### How to use this notebook\n",
        "- This is a **practice and planning** notebook: most cells are **Markdown** with copy‑pasteable prompt templates you will run in your AI tool (e.g., Gemini).  \n",
        "- After you run a prompt in your AI tool, **summarize what you learned** in the provided **Reflection** cells here.  \n",
        "- When a task asks for a short code snippet (e.g., Git or Colab), paste the **final, validated** snippet in the designated cell and add a one‑sentence explanation.\n",
        "\n",
        "> **Validate everything.** Cross‑check AI outputs with official docs or a second prompt. If two sources disagree, note it and explain which you chose and why.\n"
      ]
    },
    {
      "cell_type": "markdown",
      "id": "de4883d8",
      "metadata": {
        "id": "de4883d8"
      },
      "source": [
        "\n",
        "---\n",
        "## Prompt Patterns Quick Reference\n",
        "\n",
        "Use these as starting points and **adapt** them to your context.\n",
        "\n",
        "### 1) Zero‑Shot (definition/explanation)\n",
        "```\n",
        "Act as a clear, concise tutor for first‑year CS students.\n",
        "Explain {TOPIC} in 5 bullet points max. Include one analogy and one pitfall to avoid.\n",
        "```\n",
        "\n",
        "### 2) Few‑Shot (guided answers consistent with examples)\n",
        "```\n",
        "You will answer in the same style as the examples.\n",
        "\n",
        "Q: What is a \"commit\" in Git?  \n",
        "A: A snapshot of tracked file changes with a message explaining why.\n",
        "\n",
        "Q: What is \"pushing\" in Git?  \n",
        "A: Sending local commits to a remote repository so others can see them.\n",
        "\n",
        "Q: {YOUR QUESTION}\n",
        "A:\n",
        "```\n",
        "\n",
        "### 3) Step‑by‑Step Reasoning (show key steps)\n",
        "```\n",
        "I need a **numbered, step‑by‑step plan** for {TASK}.\n",
        "For each step: the goal, one command (if applicable), and a 1‑line verification check.\n",
        "Avoid hidden steps; keep it to 6–8 steps total.\n",
        "```\n"
      ]
    },
    {
      "cell_type": "markdown",
      "id": "3f07055e",
      "metadata": {
        "id": "3f07055e"
      },
      "source": [
        "\n",
        "---\n",
        "## Group A — Git Fundamentals (3 questions)\n",
        "\n",
        "### A1. What problem does Git solve? How is it different from file syncing?\n",
        "**Use:** Zero‑Shot, then Few‑Shot for refinement.  \n",
        "**Run this prompt:**\n",
        "```\n",
        "Act as a version control coach.\n",
        "Explain what Git is and the specific problem it solves compared to simple file syncing (e.g., Drive).\n",
        "List 3 concrete benefits for a small analytics team.\n",
        "End with a 2‑sentence analogy.\n",
        "```\n",
        "**Reflection (2–4 sentences):** What did you learn that you didn’t already know?\n"
      ]
    },
    {
      "cell_type": "markdown",
      "source": [
        "I learned about what is the true methology of Git. Especially for the branching meaning for customizing your own project without affecting the main idea."
      ],
      "metadata": {
        "id": "4sbLtWzK11Vc"
      },
      "id": "4sbLtWzK11Vc"
    },
    {
      "cell_type": "markdown",
      "id": "b364c38d",
      "metadata": {
        "id": "b364c38d"
      },
      "source": [
        "\n",
        "### A2. Commit → Branch → Merge: the minimal workflow\n",
        "**Use:** Step‑by‑Step Reasoning.  \n",
        "**Run this prompt:**\n",
        "```\n",
        "Create a minimal, step‑by‑step workflow to:\n",
        "1) initialize a repo, 2) create and switch to a feature branch, 3) commit changes,\n",
        "4) merge back to main locally, 5) push to a remote named \"origin\".\n",
        "For each step include: goal, command, and a quick verification.\n",
        "```\n",
        "**Paste final validated commands below and add one sentence on when to branch.**\n"
      ]
    },
    {
      "cell_type": "markdown",
      "source": [
        "When to branch: You should branch whenever you are starting work on a new feature, bug fix, or experiment that is separate from the main stable version of your project. This keeps the main branch clean and allows you to work in isolation."
      ],
      "metadata": {
        "id": "e742dkFQ2_V6"
      },
      "id": "e742dkFQ2_V6"
    },
    {
      "cell_type": "code",
      "source": [
        "# git add .\n",
        "# git commit -m \"Descriptive commit message\"\n",
        "# git checkout main\n",
        "# git merge <your-feature-branch-name>\n"
      ],
      "metadata": {
        "id": "_t4PBvrI4VO7"
      },
      "id": "_t4PBvrI4VO7",
      "execution_count": 2,
      "outputs": []
    },
    {
      "cell_type": "code",
      "execution_count": 3,
      "id": "7fe63d5f",
      "metadata": {
        "id": "7fe63d5f"
      },
      "outputs": [],
      "source": [
        "\n",
        "# Paste your validated minimal Git workflow commands here as comments, e.g.:\n",
        "# git init\n",
        "# git checkout -b feature/readme-polish\n",
        "# git add README.md\n",
        "# git commit -m \"Clarify setup steps\"\n",
        "# git checkout main\n",
        "# git merge feature/readme-polish --no-ff\n",
        "# git remote add origin <REMOTE_URL>\n",
        "# git push -u origin main\n"
      ]
    },
    {
      "cell_type": "markdown",
      "id": "39cd8eba",
      "metadata": {
        "id": "39cd8eba"
      },
      "source": [
        "\n",
        "### A3. Resolving a simple merge conflict\n",
        "**Use:** Step‑by‑Step Reasoning.  \n",
        "**Run this prompt:**\n",
        "```\n",
        "I have a merge conflict in README.md after merging a feature branch into main.\n",
        "Give a 6-step recipe to resolve it safely:\n",
        "- how to open the file, identify conflict markers, choose/merge lines,\n",
        "- add/commit the resolution, verify the merge, and push.\n",
        "Include one common pitfall and how to avoid it.\n",
        "```\n",
        "**Reflection:** What’s your personal checklist to avoid conflicts getting messy?\n"
      ]
    },
    {
      "cell_type": "markdown",
      "source": [
        "1. Make sure that your file is under the proper path.\n",
        "\n",
        "2. Distinguish that the content that is from current branch or merging branch.\n",
        "\n",
        "3. Keep changes small. Commit and push frequently to reduce overlap.\n",
        "\n",
        "4. Communicate with team. Let teammates know when I am editing shared files.\n",
        "\n",
        "5. Test after merging"
      ],
      "metadata": {
        "id": "EJt4JSC68bKw"
      },
      "id": "EJt4JSC68bKw"
    },
    {
      "cell_type": "markdown",
      "id": "6028ce17",
      "metadata": {
        "id": "6028ce17"
      },
      "source": [
        "\n",
        "---\n",
        "## Group B — GitHub Collaboration (3 questions)\n",
        "\n",
        "### B1. Branch vs. Fork vs. Clone\n",
        "**Use:** Few‑Shot to drive crisp distinctions with examples.  \n",
        "**Run this prompt:**\n",
        "```\n",
        "Answer using this format:\n",
        "Term — One-sentence definition — When to use — One example.\n",
        "\n",
        "Branch —\n",
        "Fork —\n",
        "Clone —\n",
        "```\n",
        "**Reflection:** Which one will your team use for this course and why?\n"
      ]
    },
    {
      "cell_type": "markdown",
      "source": [
        "For this course, our team will mainly use branches. Each teammate can clone the shared repository once and then create a branch for their own feature or task. This prevents conflicts and keeps the main branch stable while still allowing collaboration."
      ],
      "metadata": {
        "id": "plGdIP0JAeHA"
      },
      "id": "plGdIP0JAeHA"
    },
    {
      "cell_type": "markdown",
      "id": "2c819dea",
      "metadata": {
        "id": "2c819dea"
      },
      "source": [
        "\n",
        "### B2. Pull Request (PR) checklist for this course\n",
        "**Use:** Step‑by‑Step Reasoning.  \n",
        "**Run this prompt:**\n",
        "```\n",
        "Write a \"PR Checklist\" for a university analytics course team repo.\n",
        "Include: naming convention, description template, screenshots policy, reviewers, CI checks (if any),\n",
        "and a revert plan. Limit to 8 concise checklist items.\n",
        "```\n",
        "**Paste your final checklist below.**\n"
      ]
    },
    {
      "cell_type": "code",
      "source": [
        "pr_checklist = [\n",
        "\"PR Title: Use the convention <unit>-<lab>-<short-desc> (e.g., u1-lab2-eda-trends)\",\n",
        "\"Description: Include the problem being solved, the approach taken, key files changed, and how to test the changes\",\n",
        "\"Screenshots: Attach 1–2 relevant screenshots (e.g., plots, dashboard views) if visuals were modified or added\",\n",
        "\"Related Items: Link to the related assignment requirement, issue, or task being addressed\",\n",
        "\"Reviewers: Request a review from at least one teammate; do not self-merge\",\n",
        "\"Testing: Ensure the notebook or script runs end-to-end without errors (e.g., using Runtime > Run all in Colab)\",\n",
        "\"Security/Privacy: Verify no secrets, API keys, tokens, or personally identifiable information (PII) are present in the code or notebook outputs\",\n",
        "\"Revert Plan: Briefly note how to quickly revert the changes if the PR introduces unexpected issues after merging\"]\n",
        "pr_checklist"
      ],
      "metadata": {
        "colab": {
          "base_uri": "https://localhost:8080/"
        },
        "id": "ha7uIGhxA0kO",
        "outputId": "a1976979-0b53-4d17-d574-774c5669e4b7"
      },
      "id": "ha7uIGhxA0kO",
      "execution_count": 4,
      "outputs": [
        {
          "output_type": "execute_result",
          "data": {
            "text/plain": [
              "['PR Title: Use the convention <unit>-<lab>-<short-desc> (e.g., u1-lab2-eda-trends)',\n",
              " 'Description: Include the problem being solved, the approach taken, key files changed, and how to test the changes',\n",
              " 'Screenshots: Attach 1–2 relevant screenshots (e.g., plots, dashboard views) if visuals were modified or added',\n",
              " 'Related Items: Link to the related assignment requirement, issue, or task being addressed',\n",
              " 'Reviewers: Request a review from at least one teammate; do not self-merge',\n",
              " 'Testing: Ensure the notebook or script runs end-to-end without errors (e.g., using Runtime > Run all in Colab)',\n",
              " 'Security/Privacy: Verify no secrets, API keys, tokens, or personally identifiable information (PII) are present in the code or notebook outputs',\n",
              " 'Revert Plan: Briefly note how to quickly revert the changes if the PR introduces unexpected issues after merging']"
            ]
          },
          "metadata": {},
          "execution_count": 4
        }
      ]
    },
    {
      "cell_type": "code",
      "execution_count": 5,
      "id": "dd5e9adb",
      "metadata": {
        "colab": {
          "base_uri": "https://localhost:8080/"
        },
        "id": "dd5e9adb",
        "outputId": "3c55f523-40db-4951-d500-0296b282e7e0"
      },
      "outputs": [
        {
          "output_type": "execute_result",
          "data": {
            "text/plain": [
              "['PR title: <unit>-<lab>-<short-desc> (e.g., u1-lab2-eda-trends)',\n",
              " 'Description includes: problem, approach, key files, and how to test',\n",
              " 'Attach 1–2 screenshots (plots/dashboards) if visuals changed',\n",
              " 'Link related issue or assignment requirement',\n",
              " 'Request review from 1 teammate; no self-merge',\n",
              " 'Passes notebook re-run without errors (Runtime > Run all)',\n",
              " 'No secrets, tokens, or PII in code or outputs',\n",
              " 'Revert plan: how to roll back quickly if needed']"
            ]
          },
          "metadata": {},
          "execution_count": 5
        }
      ],
      "source": [
        "\n",
        "# Example (edit to your team's needs)\n",
        "pr_checklist = [\n",
        "    \"PR title: <unit>-<lab>-<short-desc> (e.g., u1-lab2-eda-trends)\",\n",
        "    \"Description includes: problem, approach, key files, and how to test\",\n",
        "    \"Attach 1–2 screenshots (plots/dashboards) if visuals changed\",\n",
        "    \"Link related issue or assignment requirement\",\n",
        "    \"Request review from 1 teammate; no self-merge\",\n",
        "    \"Passes notebook re-run without errors (Runtime > Run all)\",\n",
        "    \"No secrets, tokens, or PII in code or outputs\",\n",
        "    \"Revert plan: how to roll back quickly if needed\"\n",
        "]\n",
        "pr_checklist\n"
      ]
    },
    {
      "cell_type": "markdown",
      "id": "3be4b08d",
      "metadata": {
        "id": "3be4b08d"
      },
      "source": [
        "\n",
        "### B3. Protected `main` workflow\n",
        "**Use:** Zero‑Shot + Step‑by‑Step.  \n",
        "**Run this prompt:**\n",
        "```\n",
        "Explain how to protect the main branch in a GitHub repo for a class team:\n",
        "- Require PRs, at least one review, and passing checks\n",
        "- Disallow force-pushes\n",
        "Provide a numbered setup guide and a 3-line \"why this matters\" explanation.\n",
        "```\n",
        "**Reflection:** Which protection rules will you actually enable first, and why?\n"
      ]
    },
    {
      "cell_type": "markdown",
      "source": [
        "Require pull requests before merging. This will be my first rule because it stops direct pushes and ensures every change is reviewed, which is the foundation of safe collaboration."
      ],
      "metadata": {
        "id": "tWFKGPO0CTAy"
      },
      "id": "tWFKGPO0CTAy"
    },
    {
      "cell_type": "markdown",
      "id": "8d94b30a",
      "metadata": {
        "id": "8d94b30a"
      },
      "source": [
        "\n",
        "---\n",
        "## Group C — Google Colab for Analytics (3 questions)\n",
        "\n",
        "### C1. Why Colab? Benefits & limits for this course\n",
        "**Use:** Zero‑Shot.  \n",
        "**Run this prompt:**\n",
        "```\n",
        "Act as a data science tech advisor.\n",
        "List 5 advantages and 3 limitations of Google Colab for analytics coursework.\n",
        "Tailor to a class that uses BigQuery and dashboards. Keep it to bullet points.\n",
        "```\n",
        "**Reflection:** Which two advantages will help *you* most this semester?\n"
      ]
    },
    {
      "cell_type": "markdown",
      "source": [
        "The two advantages that will help me most are Google Cloud integration and easy sharing & collaboration.\n",
        "\n",
        "Seamless BigQuery integration allows me to query large datasets directly from Colab without extra setup, which is critical for our analytics coursework. Easy sharing makes it simple to get feedback from teammates and instructors, ensuring smoother group projects and faster troubleshooting."
      ],
      "metadata": {
        "id": "mLVyimJlEBd7"
      },
      "id": "mLVyimJlEBd7"
    },
    {
      "cell_type": "markdown",
      "id": "1b96debe",
      "metadata": {
        "id": "1b96debe"
      },
      "source": [
        "\n",
        "### C2. Authenticate to GCP in Colab and query BigQuery\n",
        "**Use:** Step‑by‑Step Reasoning for a minimal working snippet.  \n",
        "**Run this prompt:**\n",
        "```\n",
        "Provide a minimal Colab snippet to:\n",
        "1) authenticate to Google Cloud,\n",
        "2) run a simple BigQuery SQL (e.g., SELECT 1),\n",
        "3) get results into a pandas DataFrame,\n",
        "4) print row count.\n",
        "Include a one-line note on costs and safe use of LIMIT.\n",
        "```\n",
        "**Paste your final validated code below.**\n"
      ]
    },
    {
      "cell_type": "code",
      "execution_count": 6,
      "id": "5d389386",
      "metadata": {
        "id": "5d389386"
      },
      "outputs": [],
      "source": [
        "\n",
        "# Minimal BigQuery test in Colab (paste your validated version)\n",
        "# from google.colab import auth\n",
        "# auth.authenticate_user()\n",
        "#\n",
        "# from google.cloud import bigquery\n",
        "# client = bigquery.Client(project=\"<YOUR_PROJECT_ID>\")\n",
        "# sql = \"SELECT 1 AS test_col\"\n",
        "# df = client.query(sql).result().to_dataframe()\n",
        "# print(\"Rows:\", len(df))\n",
        "# df.head()\n"
      ]
    },
    {
      "cell_type": "markdown",
      "id": "6c63c1ce",
      "metadata": {
        "id": "6c63c1ce"
      },
      "source": [
        "\n",
        "### C3. Save notebooks to GitHub from Colab\n",
        "**Use:** Step‑by‑Step Reasoning.  \n",
        "**Run this prompt:**\n",
        "```\n",
        "Give two safe workflows to keep Colab notebooks versioned in GitHub:\n",
        "(A) using \"File > Save a copy in GitHub\",\n",
        "(B) local git with Drive sync (brief).\n",
        "Provide steps and cautions (e.g., large outputs, secrets) for each.\n",
        "```\n",
        "**Reflection:** Which workflow will your team adopt and why?\n"
      ]
    },
    {
      "cell_type": "markdown",
      "source": [
        "Our team will mainly use workflow A because it is fast and easy to be built into Colab, and reduces setup overhead. For larger projects or when tighter Git control is needed, we may use Workflow B."
      ],
      "metadata": {
        "id": "UtaD5ztTrf-3"
      },
      "id": "UtaD5ztTrf-3"
    },
    {
      "cell_type": "markdown",
      "id": "a181717a",
      "metadata": {
        "id": "a181717a"
      },
      "source": [
        "\n",
        "---\n",
        "## Capstone Synthesis (end of class)\n",
        "\n",
        "**Scenario:** Your team needs a reproducible workflow for this course: team repo on GitHub, branching, Colab auth to BigQuery, and a PR checklist.\n",
        "\n",
        "**Run this prompt:**\n",
        "```\n",
        "Act as a DevEx lead for a university analytics team.\n",
        "Produce a one-page \"Runbook\" with:\n",
        "- Repo structure (folders for notebooks, data, dashboards, docs)\n",
        "- Branching model (who creates branches, when to merge)\n",
        "- Colab ↔ BigQuery quickstart (auth, sample query, cost-safe LIMIT)\n",
        "- PR checklist (max 8 bullets) and protection rules for main\n",
        "- Two risks + mitigations (e.g., secrets leakage, merge conflicts)\n",
        "Use concise bullets and keep it classroom-ready.\n",
        "```\n",
        "\n",
        "**Paste your final runbook below (or attach as a Markdown file in your repo) and add a 3‑bullet reflection on what you changed after validation.**\n"
      ]
    },
    {
      "cell_type": "code",
      "source": [
        "# Analytics Team Runbook\n",
        "\n",
        "# ## Repository Structure\n",
        "\n",
        "# Organize your project files logically within the GitHub repository:\n",
        "\n",
        "# *   `/notebooks`: Colab notebooks for analysis, modeling, and exploration.\n",
        "# *   `/data`: Raw or processed data files (keep small; large datasets should remain in BigQuery or Cloud Storage).\n",
        "# *   `/dashboards`: Files related to dashboard development (e.g., Tableau workbooks, Looker Studio models, code for dashboarding tools).\n",
        "# *   `/docs`: Project documentation, meeting notes, design documents, and this runbook.\n",
        "# *   `/scripts`: Standalone Python or SQL scripts for specific tasks (e.g., data cleaning, ETL).\n",
        "\n",
        "# ## Branching Model\n",
        "\n",
        "# Adopt a simple feature-branch workflow:\n",
        "\n",
        "# *   **`main` Branch:** Always represents the stable, production-ready state of the project. Direct commits to `main` are prohibited.\n",
        "# *   **Feature Branches:** Created off `main` for each new task, feature, or bug fix (e.g., `feature/explore-user-behavior`, `bugfix/fix-data-load`).\n",
        "# *   **Who Creates Branches:** Any team member working on a task creates their own feature branch.\n",
        "# *   **When to Merge:** Merge feature branches into `main` only after a Pull Request has been approved and passes all checks.\n",
        "\n",
        "# ## Colab ↔ BigQuery Quickstart\n",
        "\n",
        "# Accessing and querying BigQuery from Colab:\n",
        "\n",
        "# 1.  **Authenticate:** Run `from google.colab import auth; auth.authenticate_user()` in a Colab cell to authenticate using your Google account.\n",
        "# 2.  **Initialize Client:** Run `from google.cloud import bigquery; client = bigquery.Client(project=\"<YOUR_PROJECT_ID>\")` (Replace `<YOUR_PROJECT_ID>`).\n",
        "# 3.  **Run Query:** Define your SQL query string (e.g., `sql = \"SELECT * FROM your_dataset.your_table LIMIT 100\"`). **Cost Note:** BigQuery costs are based on data processed. Use `LIMIT` during exploration to restrict data scanned and manage costs.\n",
        "# 4.  **Get Results:** Run `df = client.query(sql).result().to_dataframe()` to load results into a pandas DataFrame.\n",
        "# 5.  **Verify:** Use `print(\"Rows:\", len(df))` or `display(df.head())` to inspect the results.\n",
        "\n",
        "# ## Pull Request (PR) Checklist & `main` Protection\n",
        "\n",
        "# Ensure code quality and collaboration with a PR process:\n",
        "\n",
        "# *   **PR Title:** `<unit>-<lab>-<short-desc>`.\n",
        "# *   **Description:** Problem, approach, key files, how to test.\n",
        "# *   **Screenshots:** 1-2 relevant visuals if UI/plots changed.\n",
        "# *   **Related Items:** Link issue or assignment requirement.\n",
        "# *   **Reviewers:** At least 1 teammate review required; no self-merge.\n",
        "# *   **Testing:** Notebook/script runs end-to-end without errors.\n",
        "# *   **Security/Privacy:** No secrets, tokens, or PII in code/outputs.\n",
        "# *   **Revert Plan:** Note how to quickly roll back if needed.\n",
        "\n",
        "# **`main` Branch Protection Rules (Configure in GitHub Settings > Branches):**\n",
        "\n",
        "# *   Require a pull request before merging.\n",
        "# *   Require at least 1 approval.\n",
        "# *   Require status checks to pass (if configured).\n",
        "# *   Do not allow force pushes.\n",
        "\n",
        "# ## Risks and Mitigations\n",
        "\n",
        "# *   **Risk 1: Secrets Leakage:** Accidentally committing API keys, passwords, or sensitive credentials to the repository.\n",
        "#     *   **Mitigation:** **Never** hardcode secrets. Use Colab Secrets, environment variables, or secure credential management tools. Add a `.gitignore` file to prevent common secret file types from from being committed. Regularly audit the repo history for leaked secrets (GitHub has scanning tools).\n",
        "# *   **Risk 2: Merge Conflicts:** Multiple people changing the same part of a file simultaneously leading to conflicts during merging.\n",
        "#     *   **Mitigation:** **Communicate** with your team about which files you are working on. **Keep changes small** and commit/push frequently. Pull the latest changes from `main` *before* starting new work on your branch and *before* creating a PR. Learn basic Git conflict resolution steps.\n",
        "\n",
        "# This runbook provides a foundation for your team's workflow. Adapt it as needed based on your team's size and project complexity."
      ],
      "metadata": {
        "id": "R4Lo6NB9tyam"
      },
      "id": "R4Lo6NB9tyam",
      "execution_count": 7,
      "outputs": []
    },
    {
      "cell_type": "markdown",
      "source": [
        "## Reflection\n",
        "**Made BigQuery steps easier**: Kept only the basics (login, start client, safe LIMIT) so everyone can follow without extra setup.  \n",
        "**Shortened PR checklist**: Cut it down to 8 simple points so it’s clear and not overwhelming.  \n",
        "**Picked student-friendly risks**: Focused on secrets leaking and merge conflicts, since these are the real issues our team might face.  \n",
        "\n"
      ],
      "metadata": {
        "id": "Ri9jAGHQtPvF"
      },
      "id": "Ri9jAGHQtPvF"
    },
    {
      "cell_type": "markdown",
      "id": "0aa9e3a2",
      "metadata": {
        "id": "0aa9e3a2"
      },
      "source": [
        "\n",
        "---\n",
        "## Submission Checklist (to your team repo + Brightspace link)\n",
        "\n",
        "- [ ] All **Reflection** sections completed (A1–A3, B1–B3, C1–C3, Capstone).\n",
        "- [ ] Any code snippets pasted are **validated** and include a 1‑line explanation.\n",
        "- [ ] Notebook runs top‑to‑bottom without errors (where code cells exist).\n",
        "- [ ] Commit message: `week2.1-prompt-practice` and open a PR for review.\n",
        "- [ ] Add this notebook path to your repo **README.md** under Week 2.1.\n"
      ]
    }
  ],
  "metadata": {
    "colab": {
      "provenance": [],
      "include_colab_link": true
    },
    "language_info": {
      "name": "python"
    },
    "kernelspec": {
      "name": "python3",
      "display_name": "Python 3"
    }
  },
  "nbformat": 4,
  "nbformat_minor": 5
}